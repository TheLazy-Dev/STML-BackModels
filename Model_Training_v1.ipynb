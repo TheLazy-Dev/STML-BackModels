{
 "cells": [
  {
   "cell_type": "code",
   "execution_count": 1,
   "metadata": {},
   "outputs": [],
   "source": [
    "import numpy as np\n",
    "import cv2\n",
    "import os\n",
    "import matplotlib.pyplot as plt\n",
    "from sklearn.model_selection import train_test_split\n",
    "import tensorflow as tf\n",
    "import warnings\n",
    "warnings.filterwarnings('ignore')\n",
    "np.random.seed(1)\n",
    "from keras.preprocessing.image import ImageDataGenerator\n",
    "tf.random.set_seed(1234)\n",
    "import numpy as np\n",
    "import numpy as np\n",
    "import pickle\n",
    "import keras"
   ]
  },
  {
   "cell_type": "code",
   "execution_count": 2,
   "metadata": {},
   "outputs": [
    {
     "name": "stdout",
     "output_type": "stream",
     "text": [
      "Non-Checkbox Labels:  423\n",
      "Checkbox Labels:  508\n",
      "Total Samples available for training:  931\n"
     ]
    }
   ],
   "source": [
    "dirname = 'Checkboxes Training Data'\n",
    "\n",
    "counter = 0\n",
    "classes = []\n",
    "data = []\n",
    "\n",
    "for file in os.listdir(os.path.join(dirname)):\n",
    "    \n",
    "    if (file.split('.')[1]) == 'jpg':\n",
    "    \n",
    "        #read images in grayscale\n",
    "        img = cv2.imread(os.path.join(dirname,file),0)\n",
    "\n",
    "        if file.find('0 (') != -1:\n",
    "            classes.append(0)\n",
    "            resized = cv2.resize(img, (32,32), interpolation = cv2.INTER_LINEAR)\n",
    "            data.append(resized)\n",
    "                    \n",
    "        if file.find('1 (') != -1:\n",
    "            classes.append(1)\n",
    "            resized = cv2.resize(img, (32,32), interpolation = cv2.INTER_LINEAR)\n",
    "            data.append(resized)\n",
    "        \n",
    "        if file.find('2 (') != -1:\n",
    "            classes.append(2)\n",
    "            resized = cv2.resize(img, (32,32), interpolation = cv2.INTER_LINEAR)\n",
    "            data.append(resized)\n",
    "            \n",
    "print('Non-Checkbox Labels: ',classes.count(0))\n",
    "print('Checkbox Labels: ',classes.count(1))\n",
    "\n",
    "data = np.array(data)\n",
    "print('Total Samples available for training: ',data.shape[0])\n",
    "\n",
    "\n",
    "#split the training and test samples\n",
    "X_train_orig, X_test_orig, Y_train_orig,Y_test_orig = train_test_split(data, classes, test_size=0.05, random_state=1)"
   ]
  },
  {
   "cell_type": "code",
   "execution_count": 3,
   "metadata": {},
   "outputs": [
    {
     "name": "stdout",
     "output_type": "stream",
     "text": [
      "class label = 0\n",
      "(32, 32)\n"
     ]
    },
    {
     "data": {
      "image/png": "[encoded data removed]",
      "text/plain": [
       "<Figure size 432x288 with 1 Axes>"
      ]
     },
     "metadata": {
      "needs_background": "light"
     },
     "output_type": "display_data"
    }
   ],
   "source": [
    "#lets just check a random image from the set\n",
    "index = 198\n",
    "plt.imshow(X_train_orig[index],cmap = 'gray')\n",
    "print(\"class label = \" + str(np.squeeze(Y_train_orig[index])))\n",
    "print(X_train_orig[index].shape)"
   ]
  },
  {
   "cell_type": "code",
   "execution_count": 4,
   "metadata": {},
   "outputs": [
    {
     "name": "stdout",
     "output_type": "stream",
     "text": [
      "Model: \"sequential\"\n",
      "_________________________________________________________________\n",
      "Layer (type)                 Output Shape              Param #   \n",
      "=================================================================\n",
      "conv2d (Conv2D)              (None, 30, 30, 32)        320       \n",
      "_________________________________________________________________\n",
      "max_pooling2d (MaxPooling2D) (None, 15, 15, 32)        0         \n",
      "_________________________________________________________________\n",
      "conv2d_1 (Conv2D)            (None, 13, 13, 64)        18496     \n",
      "_________________________________________________________________\n",
      "max_pooling2d_1 (MaxPooling2 (None, 6, 6, 64)          0         \n",
      "_________________________________________________________________\n",
      "conv2d_2 (Conv2D)            (None, 4, 4, 128)         73856     \n",
      "_________________________________________________________________\n",
      "max_pooling2d_2 (MaxPooling2 (None, 2, 2, 128)         0         \n",
      "_________________________________________________________________\n",
      "flatten (Flatten)            (None, 512)               0         \n",
      "_________________________________________________________________\n",
      "dense (Dense)                (None, 128)               65664     \n",
      "_________________________________________________________________\n",
      "dense_1 (Dense)              (None, 128)               16512     \n",
      "_________________________________________________________________\n",
      "dense_2 (Dense)              (None, 2)                 258       \n",
      "=================================================================\n",
      "Total params: 175,106\n",
      "Trainable params: 175,106\n",
      "Non-trainable params: 0\n",
      "_________________________________________________________________\n"
     ]
    }
   ],
   "source": [
    "#keras things\n",
    "from keras.utils import to_categorical\n",
    "from keras import layers\n",
    "from keras import models\n",
    "from keras.regularizers import l2\n",
    "\n",
    "\n",
    "Y_test_orig = to_categorical(Y_test_orig, num_classes=2) \n",
    "Y_train_orig = to_categorical(Y_train_orig, num_classes=2)\n",
    "\n",
    "# 3 layer ConvNet\n",
    "model = models.Sequential()\n",
    "model.add(layers.Conv2D(32, (3, 3), activation='relu',input_shape=(32,32,1)))\n",
    "model.add(layers.MaxPooling2D((2, 2)))\n",
    "\n",
    "model.add(layers.Conv2D(64, (3, 3), activation='relu'))\n",
    "model.add(layers.MaxPooling2D((2, 2)))\n",
    "\n",
    "model.add(layers.Conv2D(128, (3, 3), activation='relu'))\n",
    "model.add(layers.MaxPooling2D((2, 2)))\n",
    "\n",
    "#dense layer\n",
    "model.add(layers.Flatten())\n",
    "\n",
    "#add the regulizer\n",
    "model.add(layers.Dense(128, activation='linear', activity_regularizer=l2(0.0003)))\n",
    "model.add(layers.Dense(128, activation='relu'))\n",
    "model.add(layers.Dense(2, activation='sigmoid'))  \n",
    "\n",
    "model.summary()"
   ]
  },
  {
   "cell_type": "code",
   "execution_count": 5,
   "metadata": {},
   "outputs": [
    {
     "name": "stdout",
     "output_type": "stream",
     "text": [
      "Epoch 1/64\n",
      "27/27 [==============================] - 3s 37ms/step - loss: 0.6961 - accuracy: 0.5234 - val_loss: 0.7195 - val_accuracy: 0.5319\n",
      "Epoch 2/64\n",
      "27/27 [==============================] - 0s 15ms/step - loss: 0.6963 - accuracy: 0.5375 - val_loss: 0.6997 - val_accuracy: 0.5319\n",
      "Epoch 3/64\n",
      "27/27 [==============================] - 0s 15ms/step - loss: 0.6858 - accuracy: 0.5693 - val_loss: 0.6923 - val_accuracy: 0.5745\n",
      "Epoch 4/64\n",
      "27/27 [==============================] - 0s 15ms/step - loss: 0.6884 - accuracy: 0.5650 - val_loss: 0.6892 - val_accuracy: 0.5745\n",
      "Epoch 5/64\n",
      "27/27 [==============================] - 0s 16ms/step - loss: 0.6794 - accuracy: 0.5945 - val_loss: 0.6835 - val_accuracy: 0.5745\n",
      "Epoch 6/64\n",
      "27/27 [==============================] - 0s 16ms/step - loss: 0.6798 - accuracy: 0.5925 - val_loss: 0.6817 - val_accuracy: 0.5745\n",
      "Epoch 7/64\n",
      "27/27 [==============================] - 0s 17ms/step - loss: 0.6532 - accuracy: 0.6148 - val_loss: 0.6536 - val_accuracy: 0.6170\n",
      "Epoch 8/64\n",
      "27/27 [==============================] - 0s 16ms/step - loss: 0.6189 - accuracy: 0.6318 - val_loss: 0.5625 - val_accuracy: 0.6170\n",
      "Epoch 9/64\n",
      "27/27 [==============================] - 0s 17ms/step - loss: 0.6005 - accuracy: 0.6492 - val_loss: 0.5731 - val_accuracy: 0.6383\n",
      "Epoch 10/64\n",
      "27/27 [==============================] - 0s 16ms/step - loss: 0.6250 - accuracy: 0.6344 - val_loss: 0.5408 - val_accuracy: 0.6809\n",
      "Epoch 11/64\n",
      "27/27 [==============================] - 0s 16ms/step - loss: 0.5738 - accuracy: 0.6554 - val_loss: 0.5393 - val_accuracy: 0.7660\n",
      "Epoch 12/64\n",
      "27/27 [==============================] - 0s 16ms/step - loss: 0.5554 - accuracy: 0.6873 - val_loss: 0.4896 - val_accuracy: 0.7660\n",
      "Epoch 13/64\n",
      "27/27 [==============================] - 0s 16ms/step - loss: 0.5443 - accuracy: 0.7170 - val_loss: 0.4914 - val_accuracy: 0.7660\n",
      "Epoch 14/64\n",
      "27/27 [==============================] - 0s 16ms/step - loss: 0.5368 - accuracy: 0.7117 - val_loss: 0.4895 - val_accuracy: 0.7872\n",
      "Epoch 15/64\n",
      "27/27 [==============================] - 0s 16ms/step - loss: 0.5349 - accuracy: 0.7046 - val_loss: 0.4497 - val_accuracy: 0.8085\n",
      "Epoch 16/64\n",
      "27/27 [==============================] - 0s 16ms/step - loss: 0.5344 - accuracy: 0.7367 - val_loss: 0.4502 - val_accuracy: 0.7872\n",
      "Epoch 17/64\n",
      "27/27 [==============================] - 1s 18ms/step - loss: 0.5248 - accuracy: 0.7130 - val_loss: 0.5152 - val_accuracy: 0.6809\n",
      "Epoch 18/64\n",
      "27/27 [==============================] - 0s 17ms/step - loss: 0.5245 - accuracy: 0.7339 - val_loss: 0.4911 - val_accuracy: 0.8085\n",
      "Epoch 19/64\n",
      "27/27 [==============================] - 0s 16ms/step - loss: 0.4571 - accuracy: 0.7947 - val_loss: 0.4362 - val_accuracy: 0.7660\n",
      "Epoch 20/64\n",
      "27/27 [==============================] - 1s 18ms/step - loss: 0.4851 - accuracy: 0.7522 - val_loss: 0.4198 - val_accuracy: 0.8085\n",
      "Epoch 21/64\n",
      "27/27 [==============================] - 0s 15ms/step - loss: 0.4523 - accuracy: 0.7778 - val_loss: 0.4446 - val_accuracy: 0.7660\n",
      "Epoch 22/64\n",
      "27/27 [==============================] - 0s 15ms/step - loss: 0.4823 - accuracy: 0.7580 - val_loss: 0.4445 - val_accuracy: 0.7660\n",
      "Epoch 23/64\n",
      "27/27 [==============================] - 0s 16ms/step - loss: 0.4559 - accuracy: 0.7746 - val_loss: 0.4150 - val_accuracy: 0.8085\n",
      "Epoch 24/64\n",
      "27/27 [==============================] - 0s 16ms/step - loss: 0.4824 - accuracy: 0.7742 - val_loss: 0.4466 - val_accuracy: 0.7660\n",
      "Epoch 25/64\n",
      "27/27 [==============================] - 0s 16ms/step - loss: 0.4751 - accuracy: 0.7314 - val_loss: 0.3675 - val_accuracy: 0.8298\n",
      "Epoch 26/64\n",
      "27/27 [==============================] - 0s 16ms/step - loss: 0.4360 - accuracy: 0.7957 - val_loss: 0.3910 - val_accuracy: 0.8085\n",
      "Epoch 27/64\n",
      "27/27 [==============================] - 0s 16ms/step - loss: 0.4382 - accuracy: 0.7912 - val_loss: 0.4402 - val_accuracy: 0.7872\n",
      "Epoch 28/64\n",
      "27/27 [==============================] - 0s 17ms/step - loss: 0.4498 - accuracy: 0.8165 - val_loss: 0.3368 - val_accuracy: 0.8085\n",
      "Epoch 29/64\n",
      "27/27 [==============================] - 1s 19ms/step - loss: 0.4122 - accuracy: 0.8102 - val_loss: 0.3966 - val_accuracy: 0.8298\n",
      "Epoch 30/64\n",
      "27/27 [==============================] - 0s 17ms/step - loss: 0.3958 - accuracy: 0.7952 - val_loss: 0.3726 - val_accuracy: 0.8511\n",
      "Epoch 31/64\n",
      "27/27 [==============================] - 0s 17ms/step - loss: 0.3998 - accuracy: 0.7952 - val_loss: 0.4026 - val_accuracy: 0.8723\n",
      "Epoch 32/64\n",
      "27/27 [==============================] - 1s 21ms/step - loss: 0.4266 - accuracy: 0.7823 - val_loss: 0.3159 - val_accuracy: 0.8298\n",
      "Epoch 33/64\n",
      "27/27 [==============================] - 1s 20ms/step - loss: 0.4235 - accuracy: 0.7882 - val_loss: 0.3502 - val_accuracy: 0.8723\n",
      "Epoch 34/64\n",
      "27/27 [==============================] - 1s 19ms/step - loss: 0.3668 - accuracy: 0.8292 - val_loss: 0.3122 - val_accuracy: 0.8511\n",
      "Epoch 35/64\n",
      "27/27 [==============================] - 0s 16ms/step - loss: 0.4441 - accuracy: 0.7990 - val_loss: 0.3808 - val_accuracy: 0.8298\n",
      "Epoch 36/64\n",
      "27/27 [==============================] - 0s 17ms/step - loss: 0.3989 - accuracy: 0.8178 - val_loss: 0.3566 - val_accuracy: 0.8511\n",
      "Epoch 37/64\n",
      "27/27 [==============================] - 0s 16ms/step - loss: 0.4213 - accuracy: 0.8052 - val_loss: 0.3534 - val_accuracy: 0.8298\n",
      "Epoch 38/64\n",
      "27/27 [==============================] - 0s 16ms/step - loss: 0.4320 - accuracy: 0.7981 - val_loss: 0.3641 - val_accuracy: 0.8085\n",
      "Epoch 39/64\n",
      "27/27 [==============================] - 0s 16ms/step - loss: 0.3558 - accuracy: 0.8392 - val_loss: 0.2930 - val_accuracy: 0.8936\n",
      "Epoch 40/64\n",
      "27/27 [==============================] - 0s 15ms/step - loss: 0.3552 - accuracy: 0.8384 - val_loss: 0.3529 - val_accuracy: 0.8723\n",
      "Epoch 41/64\n",
      "27/27 [==============================] - 0s 16ms/step - loss: 0.3715 - accuracy: 0.8238 - val_loss: 0.3688 - val_accuracy: 0.8085\n",
      "Epoch 42/64\n",
      "27/27 [==============================] - 0s 15ms/step - loss: 0.3474 - accuracy: 0.8519 - val_loss: 0.3558 - val_accuracy: 0.8085\n",
      "Epoch 43/64\n",
      "27/27 [==============================] - 0s 16ms/step - loss: 0.4064 - accuracy: 0.8119 - val_loss: 0.3416 - val_accuracy: 0.8298\n",
      "Epoch 44/64\n",
      "27/27 [==============================] - 0s 16ms/step - loss: 0.3455 - accuracy: 0.8595 - val_loss: 0.2686 - val_accuracy: 0.8723\n",
      "Epoch 45/64\n",
      "27/27 [==============================] - 0s 15ms/step - loss: 0.3659 - accuracy: 0.8496 - val_loss: 0.2874 - val_accuracy: 0.8511\n",
      "Epoch 46/64\n",
      "27/27 [==============================] - 1s 19ms/step - loss: 0.3908 - accuracy: 0.8012 - val_loss: 0.3708 - val_accuracy: 0.8298\n",
      "Epoch 47/64\n",
      "27/27 [==============================] - 0s 16ms/step - loss: 0.3307 - accuracy: 0.8407 - val_loss: 0.2814 - val_accuracy: 0.8723\n",
      "Epoch 48/64\n",
      "27/27 [==============================] - 0s 17ms/step - loss: 0.3435 - accuracy: 0.8419 - val_loss: 0.3203 - val_accuracy: 0.8085\n",
      "Epoch 49/64\n",
      "27/27 [==============================] - 0s 18ms/step - loss: 0.3365 - accuracy: 0.8576 - val_loss: 0.3559 - val_accuracy: 0.8298\n",
      "Epoch 50/64\n",
      "27/27 [==============================] - 0s 17ms/step - loss: 0.3980 - accuracy: 0.8206 - val_loss: 0.2559 - val_accuracy: 0.8936\n",
      "Epoch 51/64\n",
      "27/27 [==============================] - 0s 17ms/step - loss: 0.3512 - accuracy: 0.8548 - val_loss: 0.3262 - val_accuracy: 0.8298\n",
      "Epoch 52/64\n",
      "27/27 [==============================] - 0s 16ms/step - loss: 0.3156 - accuracy: 0.8620 - val_loss: 0.4055 - val_accuracy: 0.7872\n",
      "Epoch 53/64\n",
      "27/27 [==============================] - 0s 16ms/step - loss: 0.3490 - accuracy: 0.8144 - val_loss: 0.2786 - val_accuracy: 0.8511\n",
      "Epoch 54/64\n",
      "27/27 [==============================] - 0s 16ms/step - loss: 0.3103 - accuracy: 0.8583 - val_loss: 0.3169 - val_accuracy: 0.8298\n",
      "Epoch 55/64\n",
      "27/27 [==============================] - 0s 16ms/step - loss: 0.3430 - accuracy: 0.8527 - val_loss: 0.3510 - val_accuracy: 0.8298\n",
      "Epoch 56/64\n",
      "27/27 [==============================] - 0s 16ms/step - loss: 0.2982 - accuracy: 0.8778 - val_loss: 0.3324 - val_accuracy: 0.8298\n",
      "Epoch 57/64\n",
      "27/27 [==============================] - 0s 16ms/step - loss: 0.3234 - accuracy: 0.8539 - val_loss: 0.3216 - val_accuracy: 0.8723\n",
      "Epoch 58/64\n",
      "27/27 [==============================] - 1s 22ms/step - loss: 0.3016 - accuracy: 0.8756 - val_loss: 0.3158 - val_accuracy: 0.8298\n"
     ]
    },
    {
     "name": "stdout",
     "output_type": "stream",
     "text": [
      "Epoch 59/64\n",
      "27/27 [==============================] - 1s 19ms/step - loss: 0.3460 - accuracy: 0.8421 - val_loss: 0.3217 - val_accuracy: 0.8298\n",
      "Epoch 60/64\n",
      "27/27 [==============================] - 1s 19ms/step - loss: 0.3156 - accuracy: 0.8599 - val_loss: 0.3316 - val_accuracy: 0.8298\n",
      "Epoch 61/64\n",
      "27/27 [==============================] - 1s 18ms/step - loss: 0.3031 - accuracy: 0.8787 - val_loss: 0.3717 - val_accuracy: 0.8511\n",
      "Epoch 62/64\n",
      "27/27 [==============================] - 0s 17ms/step - loss: 0.2719 - accuracy: 0.8795 - val_loss: 0.3146 - val_accuracy: 0.8511\n",
      "Epoch 63/64\n",
      "27/27 [==============================] - 1s 18ms/step - loss: 0.2834 - accuracy: 0.8696 - val_loss: 0.2473 - val_accuracy: 0.8511\n",
      "Epoch 64/64\n",
      "27/27 [==============================] - 1s 18ms/step - loss: 0.2708 - accuracy: 0.8818 - val_loss: 0.2913 - val_accuracy: 0.8723\n"
     ]
    }
   ],
   "source": [
    "from keras.optimizers import Adam\n",
    "opt = Adam(lr=0.001)\n",
    "model.compile(optimizer=opt, loss=keras.losses.categorical_crossentropy, metrics=['accuracy'])\n",
    "\n",
    "ntrain = len(X_train_orig)\n",
    "nval = len(X_test_orig)\n",
    "X_train_orig = X_train_orig.reshape((len(X_train_orig),32,32,1)) \n",
    "X_test_orig = X_test_orig.reshape((len(X_test_orig),32,32,1))\n",
    "\n",
    "train_datagen = ImageDataGenerator(rescale = 1./255,rotation_range = 40, width_shift_range = .2,\n",
    "                                  height_shift_range = .2, shear_range = .2, zoom_range =  .2, horizontal_flip = True)\n",
    "\n",
    "val_datagen = ImageDataGenerator(rescale = 1./255)\n",
    "\n",
    "train_generator = train_datagen.flow(X_train_orig,Y_train_orig,batch_size=32)\n",
    "val_generator = val_datagen.flow(X_test_orig,Y_test_orig,batch_size = 32)\n",
    "\n",
    "\n",
    "#X_train_orig, X_test_orig, Y_train_orig,Y_test_orig\n",
    "history = model.fit_generator(train_generator,steps_per_epoch = ntrain/32, epochs = 64, validation_data = val_generator, validation_steps = nval/32  )\n"
   ]
  },
  {
   "cell_type": "code",
   "execution_count": 6,
   "metadata": {},
   "outputs": [
    {
     "data": {
      "image/png": "[encoded data removed]",
      "text/plain": [
       "<Figure size 432x288 with 1 Axes>"
      ]
     },
     "metadata": {
      "needs_background": "light"
     },
     "output_type": "display_data"
    },
    {
     "data": {
      "image/png": "[encoded data removed]",
      "text/plain": [
       "<Figure size 432x288 with 1 Axes>"
      ]
     },
     "metadata": {
      "needs_background": "light"
     },
     "output_type": "display_data"
    }
   ],
   "source": [
    "\n",
    "#lets plot the train and val curve, get the details form the history object\n",
    "acc = history.history['accuracy']\n",
    "val_acc = history.history['val_accuracy']\n",
    "loss = history.history['loss']\n",
    "val_loss = history.history['val_loss']\n",
    "\n",
    "epochs = range(1, len(acc) + 1)\n",
    "\n",
    "#Train and validation accuracy\n",
    "plt.plot(epochs, acc, 'b', label='Training accurarcy')\n",
    "plt.plot(epochs, val_acc, 'r', label='Validation accurarcy')\n",
    "plt.title('Training and Validation accurarcy')\n",
    "plt.legend()\n",
    "plt.figure()\n",
    "\n",
    "#Train and validation loss\n",
    "plt.plot(epochs, loss, 'b', label='Training loss')\n",
    "plt.plot(epochs, val_loss, 'r', label='Validation loss')\n",
    "plt.title('Training and Validation loss')\n",
    "plt.legend()\n",
    "\n",
    "plt.show()"
   ]
  },
  {
   "cell_type": "code",
   "execution_count": 7,
   "metadata": {},
   "outputs": [
    {
     "name": "stdout",
     "output_type": "stream",
     "text": [
      " 1/32 [..............................] - ETA: 0s - loss: 0.2067 - accuracy: 0.9062WARNING:tensorflow:Your input ran out of data; interrupting training. Make sure that your dataset or generator can generate at least `steps_per_epoch * epochs` batches (in this case, 32 batches). You may need to use the repeat() function when building your dataset.\n",
      "32/32 [==============================] - 0s 8ms/step - loss: 0.2913 - accuracy: 0.8723\n",
      "Validation Accuracy: 87.23\n",
      "25/32 [======================>.......] - ETA: 0s - loss: 0.2685 - accuracy: 0.8838WARNING:tensorflow:Your input ran out of data; interrupting training. Make sure that your dataset or generator can generate at least `steps_per_epoch * epochs` batches (in this case, 32 batches). You may need to use the repeat() function when building your dataset.\n",
      "32/32 [==============================] - 0s 8ms/step - loss: 0.2608 - accuracy: 0.8880\n",
      "Training Accuracy: 88.80\n"
     ]
    }
   ],
   "source": [
    "_, accuracy = model.evaluate(val_generator,steps = 32)\n",
    "print('Validation Accuracy: %.2f' % (accuracy*100))\n",
    "\n",
    "_, accuracy = model.evaluate(train_generator,steps = 32)\n",
    "print('Training Accuracy: %.2f' % (accuracy*100))\n",
    "\n",
    "model.save('checkbox_keras_model_v1.h5')\n"
   ]
  }
 ],
 "metadata": {
  "kernelspec": {
   "display_name": "Python 3",
   "language": "python",
   "name": "python3"
  },
  "language_info": {
   "codemirror_mode": {
    "name": "ipython",
    "version": 3
   },
   "file_extension": ".py",
   "mimetype": "text/x-python",
   "name": "python",
   "nbconvert_exporter": "python",
   "pygments_lexer": "ipython3",
   "version": "3.6.5"
  }
 },
 "nbformat": 4,
 "nbformat_minor": 2
}
